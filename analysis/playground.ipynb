{
 "cells": [
  {
   "cell_type": "code",
   "execution_count": null,
   "metadata": {},
   "outputs": [],
   "source": [
    "# This section recommends: [BFGS, Powell, Nelder-Mead]\n",
    "# https://scipy-lectures.org/advanced/mathematical_optimization/index.html#practical-guide-to-optimization-with-scipy\n",
    "from scipy.optimize import minimize\n",
    "\n",
    "fun = lambda x: (x[0] - 1)**2 + (x[1] - 2.5)**2\n",
    "# Limits to x[0], x[1]\n",
    "bnds = ((0, None), (0, None))\n",
    "init_cond = (2, 0)\n",
    "\n",
    "for method in ['BFGS', 'Powell', 'Nelder-Mead']:\n",
    "  res = minimize(fun, init_cond, method=method, bounds=bnds)\n",
    "  print(\"-------------------------\")\n",
    "  print(\"Method: \" + method)\n",
    "  print(res)\n",
    "  # Noteworthy: res.success, res.x, res.fun\n",
    "  print(\"Success = %s, optimized result = %s, best parameter values = %s\" %\n",
    "       (res.success, res.fun, res.x))"
   ]
  },
  {
   "cell_type": "code",
   "execution_count": 1,
   "metadata": {},
   "outputs": [],
   "source": [
    "import connectomes\n",
    "import numpy as np\n",
    "\n",
    "Gg = np.array([[0, 8, 5],\n",
    "               [8, 0, 2],\n",
    "               [5, 2, 0]])\n",
    "Gs = np.array([[0, 4, 5],\n",
    "               [1, 0, 6],\n",
    "               [2, 3, 0]])\n",
    "N = 3\n",
    "compact = connectomes.model_to_compact_param(Gg, Gs, N)\n",
    "uncompacted = connectomes.compact_to_model_param(compact, N)"
   ]
  },
  {
   "cell_type": "code",
   "execution_count": 2,
   "metadata": {},
   "outputs": [
    {
     "data": {
      "text/plain": [
       "array([8, 5, 2, 1, 2, 3, 4, 5, 6])"
      ]
     },
     "execution_count": 2,
     "metadata": {},
     "output_type": "execute_result"
    }
   ],
   "source": [
    "compact"
   ]
  },
  {
   "cell_type": "code",
   "execution_count": 3,
   "metadata": {},
   "outputs": [
    {
     "data": {
      "text/plain": [
       "(array([[0., 8., 5.],\n",
       "        [8., 0., 2.],\n",
       "        [5., 2., 0.]]),\n",
       " array([[0., 4., 5.],\n",
       "        [1., 0., 6.],\n",
       "        [2., 3., 0.]]))"
      ]
     },
     "execution_count": 3,
     "metadata": {},
     "output_type": "execute_result"
    }
   ],
   "source": [
    "uncompacted"
   ]
  },
  {
   "cell_type": "code",
   "execution_count": 4,
   "metadata": {},
   "outputs": [
    {
     "data": {
      "text/plain": [
       "(array([[0.        , 0.16996127, 0.80828419],\n",
       "        [0.16996127, 0.        , 0.05922934],\n",
       "        [0.80828419, 0.05922934, 0.        ]]),\n",
       " array([[0.        , 0.85805018, 0.86365395],\n",
       "        [0.26961835, 0.        , 0.71387297],\n",
       "        [0.83478395, 0.21324189, 0.        ]]),\n",
       " array([1, 0, 0]))"
      ]
     },
     "execution_count": 4,
     "metadata": {},
     "output_type": "execute_result"
    }
   ],
   "source": [
    "connectomes.get_random_connectome(3)"
   ]
  },
  {
   "cell_type": "code",
   "execution_count": null,
   "metadata": {},
   "outputs": [],
   "source": []
  }
 ],
 "metadata": {
  "kernelspec": {
   "display_name": "Python 3",
   "language": "python",
   "name": "python3"
  },
  "language_info": {
   "codemirror_mode": {
    "name": "ipython",
    "version": 3
   },
   "file_extension": ".py",
   "mimetype": "text/x-python",
   "name": "python",
   "nbconvert_exporter": "python",
   "pygments_lexer": "ipython3",
   "version": "3.7.3"
  }
 },
 "nbformat": 4,
 "nbformat_minor": 2
}
