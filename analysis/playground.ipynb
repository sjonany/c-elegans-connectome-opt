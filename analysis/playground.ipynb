{
 "cells": [
  {
   "cell_type": "code",
   "execution_count": 7,
   "metadata": {},
   "outputs": [
    {
     "name": "stdout",
     "output_type": "stream",
     "text": [
      "-------------------------\n",
      "Method: BFGS\n",
      "      fun: 1.0075886211189263e-15\n",
      " hess_inv: array([[0.93103449, 0.17241379],\n",
      "       [0.17241379, 0.56896552]])\n",
      "      jac: array([-4.85836291e-08,  1.47117323e-08])\n",
      "  message: 'Optimization terminated successfully.'\n",
      "     nfev: 12\n",
      "      nit: 2\n",
      "     njev: 3\n",
      "   status: 0\n",
      "  success: True\n",
      "        x: array([0.99999997, 2.5       ])\n",
      "Success = True, optimized result = 1.0075886211189263e-15, best parameter values = [0.99999997 2.5       ]\n",
      "-------------------------\n",
      "Method: Powell\n",
      "   direc: array([[1., 0.],\n",
      "       [0., 1.]])\n",
      "     fun: 4.930380657631324e-32\n",
      " message: 'Optimization terminated successfully.'\n",
      "    nfev: 36\n",
      "     nit: 2\n",
      "  status: 0\n",
      " success: True\n",
      "       x: array([1. , 2.5])\n",
      "Success = True, optimized result = 4.930380657631324e-32, best parameter values = [1.  2.5]\n",
      "-------------------------\n",
      "Method: Nelder-Mead\n",
      " final_simplex: (array([[1.00001833, 2.49997712],\n",
      "       [0.9999936 , 2.50003761],\n",
      "       [1.00005617, 2.50000797]]), array([8.59734870e-10, 1.45555344e-09, 3.21813608e-09]))\n",
      "           fun: 8.597348699241522e-10\n",
      "       message: 'Optimization terminated successfully.'\n",
      "          nfev: 129\n",
      "           nit: 69\n",
      "        status: 0\n",
      "       success: True\n",
      "             x: array([1.00001833, 2.49997712])\n",
      "Success = True, optimized result = 8.597348699241522e-10, best parameter values = [1.00001833 2.49997712]\n"
     ]
    },
    {
     "name": "stderr",
     "output_type": "stream",
     "text": [
      "/home/stephen/anaconda3/lib/python3.7/site-packages/scipy/optimize/_minimize.py:522: RuntimeWarning: Method BFGS cannot handle constraints nor bounds.\n",
      "  RuntimeWarning)\n",
      "/home/stephen/anaconda3/lib/python3.7/site-packages/scipy/optimize/_minimize.py:522: RuntimeWarning: Method Powell cannot handle constraints nor bounds.\n",
      "  RuntimeWarning)\n",
      "/home/stephen/anaconda3/lib/python3.7/site-packages/scipy/optimize/_minimize.py:522: RuntimeWarning: Method Nelder-Mead cannot handle constraints nor bounds.\n",
      "  RuntimeWarning)\n"
     ]
    }
   ],
   "source": [
    "# This section recommends: [BFGS, Powell, Nelder-Mead]\n",
    "# https://scipy-lectures.org/advanced/mathematical_optimization/index.html#practical-guide-to-optimization-with-scipy\n",
    "from scipy.optimize import minimize\n",
    "\n",
    "fun = lambda x: (x[0] - 1)**2 + (x[1] - 2.5)**2\n",
    "# Limits to x[0], x[1]\n",
    "bnds = ((0, None), (0, None))\n",
    "init_cond = (2, 0)\n",
    "\n",
    "for method in ['BFGS', 'Powell', 'Nelder-Mead']:\n",
    "  res = minimize(fun, init_cond, method=method, bounds=bnds)\n",
    "  print(\"-------------------------\")\n",
    "  print(\"Method: \" + method)\n",
    "  print(res)\n",
    "  # Noteworthy: res.success, res.x, res.fun\n",
    "  print(\"Success = %s, optimized result = %s, best parameter values = %s\" %\n",
    "       (res.success, res.fun, res.x))"
   ]
  },
  {
   "cell_type": "code",
   "execution_count": 1,
   "metadata": {},
   "outputs": [],
   "source": [
    "import connectomes\n",
    "import numpy as np\n",
    "\n",
    "Gg = np.array([[0, 8, 5],\n",
    "               [8, 0, 2],\n",
    "               [5, 2, 0]])\n",
    "Gs = np.array([[0, 4, 5],\n",
    "               [1, 0, 6],\n",
    "               [2, 3, 0]])\n",
    "N = 3\n",
    "compact = connectomes.model_to_compact_param(Gg, Gs, N)\n",
    "uncompacted = connectomes.compact_to_model_param(compact, N)"
   ]
  },
  {
   "cell_type": "code",
   "execution_count": 2,
   "metadata": {},
   "outputs": [
    {
     "data": {
      "text/plain": [
       "array([8, 5, 2, 1, 2, 3, 4, 5, 6])"
      ]
     },
     "execution_count": 2,
     "metadata": {},
     "output_type": "execute_result"
    }
   ],
   "source": [
    "compact"
   ]
  },
  {
   "cell_type": "code",
   "execution_count": 3,
   "metadata": {},
   "outputs": [
    {
     "data": {
      "text/plain": [
       "(array([[0., 8., 5.],\n",
       "        [8., 0., 2.],\n",
       "        [5., 2., 0.]]),\n",
       " array([[0., 4., 5.],\n",
       "        [1., 0., 6.],\n",
       "        [2., 3., 0.]]))"
      ]
     },
     "execution_count": 3,
     "metadata": {},
     "output_type": "execute_result"
    }
   ],
   "source": [
    "uncompacted"
   ]
  },
  {
   "cell_type": "code",
   "execution_count": 4,
   "metadata": {},
   "outputs": [
    {
     "ename": "TypeError",
     "evalue": "NumPy boolean array indexing assignment requires a 0 or 1-dimensional input, input has 2 dimensions",
     "output_type": "error",
     "traceback": [
      "\u001b[0;31m---------------------------------------------------------------------------\u001b[0m",
      "\u001b[0;31mTypeError\u001b[0m                                 Traceback (most recent call last)",
      "\u001b[0;32m<ipython-input-4-fcc29c645bc8>\u001b[0m in \u001b[0;36m<module>\u001b[0;34m\u001b[0m\n\u001b[0;32m----> 1\u001b[0;31m \u001b[0mconnectomes\u001b[0m\u001b[0;34m.\u001b[0m\u001b[0mget_random_connectome\u001b[0m\u001b[0;34m(\u001b[0m\u001b[0;36m3\u001b[0m\u001b[0;34m)\u001b[0m\u001b[0;34m\u001b[0m\u001b[0;34m\u001b[0m\u001b[0m\n\u001b[0m",
      "\u001b[0;32m~/Documents/code/optimization-playground/analysis/connectomes.py\u001b[0m in \u001b[0;36mget_random_connectome\u001b[0;34m(N)\u001b[0m\n\u001b[1;32m     25\u001b[0m   \"\"\"\n\u001b[1;32m     26\u001b[0m   \u001b[0mcompact_vec\u001b[0m \u001b[0;34m=\u001b[0m \u001b[0mnp\u001b[0m\u001b[0;34m.\u001b[0m\u001b[0mrandom\u001b[0m\u001b[0;34m.\u001b[0m\u001b[0mrand\u001b[0m\u001b[0;34m(\u001b[0m\u001b[0mnum_gg_compact\u001b[0m\u001b[0;34m(\u001b[0m\u001b[0mN\u001b[0m\u001b[0;34m)\u001b[0m \u001b[0;34m+\u001b[0m \u001b[0mnum_gs_compact\u001b[0m\u001b[0;34m(\u001b[0m\u001b[0mN\u001b[0m\u001b[0;34m)\u001b[0m\u001b[0;34m,\u001b[0m \u001b[0;36m1\u001b[0m\u001b[0;34m)\u001b[0m\u001b[0;34m\u001b[0m\u001b[0;34m\u001b[0m\u001b[0m\n\u001b[0;32m---> 27\u001b[0;31m   \u001b[0mGg\u001b[0m\u001b[0;34m,\u001b[0m \u001b[0mGs\u001b[0m \u001b[0;34m=\u001b[0m \u001b[0mcompact_to_model_param\u001b[0m\u001b[0;34m(\u001b[0m\u001b[0mcompact_vec\u001b[0m\u001b[0;34m,\u001b[0m \u001b[0mN\u001b[0m\u001b[0;34m)\u001b[0m\u001b[0;34m\u001b[0m\u001b[0;34m\u001b[0m\u001b[0m\n\u001b[0m\u001b[1;32m     28\u001b[0m   \u001b[0;31m# TODO: Discuss with team what fixed is_inhibitory do we want. For now I'll just hardcode to Jimin's\u001b[0m\u001b[0;34m\u001b[0m\u001b[0;34m\u001b[0m\u001b[0;34m\u001b[0m\u001b[0m\n\u001b[1;32m     29\u001b[0m   \u001b[0mis_inhibitory\u001b[0m \u001b[0;34m=\u001b[0m \u001b[0mnp\u001b[0m\u001b[0;34m.\u001b[0m\u001b[0marray\u001b[0m\u001b[0;34m(\u001b[0m\u001b[0;34m[\u001b[0m\u001b[0;36m1\u001b[0m\u001b[0;34m,\u001b[0m \u001b[0;36m0\u001b[0m \u001b[0;34m,\u001b[0m\u001b[0;36m0\u001b[0m\u001b[0;34m]\u001b[0m\u001b[0;34m)\u001b[0m \u001b[0;31m# np.array([1] * N)\u001b[0m\u001b[0;34m\u001b[0m\u001b[0;34m\u001b[0m\u001b[0m\n",
      "\u001b[0;32m~/Documents/code/optimization-playground/analysis/connectomes.py\u001b[0m in \u001b[0;36mcompact_to_model_param\u001b[0;34m(compact_vec, N)\u001b[0m\n\u001b[1;32m     43\u001b[0m   \u001b[0mGs_compact\u001b[0m \u001b[0;34m=\u001b[0m \u001b[0mcompact_vec\u001b[0m\u001b[0;34m[\u001b[0m\u001b[0mnum_gg_items\u001b[0m\u001b[0;34m:\u001b[0m\u001b[0;34m]\u001b[0m\u001b[0;34m\u001b[0m\u001b[0;34m\u001b[0m\u001b[0m\n\u001b[1;32m     44\u001b[0m \u001b[0;34m\u001b[0m\u001b[0m\n\u001b[0;32m---> 45\u001b[0;31m   \u001b[0mGg\u001b[0m \u001b[0;34m=\u001b[0m \u001b[0mcompact_to_model_Gg\u001b[0m\u001b[0;34m(\u001b[0m\u001b[0mGg_compact\u001b[0m\u001b[0;34m,\u001b[0m \u001b[0mN\u001b[0m\u001b[0;34m)\u001b[0m\u001b[0;34m\u001b[0m\u001b[0;34m\u001b[0m\u001b[0m\n\u001b[0m\u001b[1;32m     46\u001b[0m   \u001b[0mGs\u001b[0m \u001b[0;34m=\u001b[0m \u001b[0mcompact_to_model_Gs\u001b[0m\u001b[0;34m(\u001b[0m\u001b[0mGs_compact\u001b[0m\u001b[0;34m,\u001b[0m \u001b[0mN\u001b[0m\u001b[0;34m)\u001b[0m\u001b[0;34m\u001b[0m\u001b[0;34m\u001b[0m\u001b[0m\n\u001b[1;32m     47\u001b[0m \u001b[0;34m\u001b[0m\u001b[0m\n",
      "\u001b[0;32m~/Documents/code/optimization-playground/analysis/connectomes.py\u001b[0m in \u001b[0;36mcompact_to_model_Gg\u001b[0;34m(Gg_compact, N)\u001b[0m\n\u001b[1;32m     63\u001b[0m \u001b[0;32mdef\u001b[0m \u001b[0mcompact_to_model_Gg\u001b[0m\u001b[0;34m(\u001b[0m\u001b[0mGg_compact\u001b[0m\u001b[0;34m,\u001b[0m \u001b[0mN\u001b[0m\u001b[0;34m)\u001b[0m\u001b[0;34m:\u001b[0m\u001b[0;34m\u001b[0m\u001b[0;34m\u001b[0m\u001b[0m\n\u001b[1;32m     64\u001b[0m   \u001b[0mGg\u001b[0m \u001b[0;34m=\u001b[0m \u001b[0mnp\u001b[0m\u001b[0;34m.\u001b[0m\u001b[0mzeros\u001b[0m\u001b[0;34m(\u001b[0m\u001b[0;34m(\u001b[0m\u001b[0mN\u001b[0m\u001b[0;34m,\u001b[0m\u001b[0mN\u001b[0m\u001b[0;34m)\u001b[0m\u001b[0;34m)\u001b[0m\u001b[0;34m\u001b[0m\u001b[0;34m\u001b[0m\u001b[0m\n\u001b[0;32m---> 65\u001b[0;31m   \u001b[0mfill_lower_tri\u001b[0m\u001b[0;34m(\u001b[0m\u001b[0mGg\u001b[0m\u001b[0;34m,\u001b[0m \u001b[0mGg_compact\u001b[0m\u001b[0;34m)\u001b[0m\u001b[0;34m\u001b[0m\u001b[0;34m\u001b[0m\u001b[0m\n\u001b[0m\u001b[1;32m     66\u001b[0m   \u001b[0;31m# Copy the lower triangle to upper triangle, keeping in mind non-lower triangle values are zeroes.\u001b[0m\u001b[0;34m\u001b[0m\u001b[0;34m\u001b[0m\u001b[0;34m\u001b[0m\u001b[0m\n\u001b[1;32m     67\u001b[0m   \u001b[0mGg\u001b[0m \u001b[0;34m+=\u001b[0m \u001b[0mGg\u001b[0m\u001b[0;34m.\u001b[0m\u001b[0mT\u001b[0m\u001b[0;34m\u001b[0m\u001b[0;34m\u001b[0m\u001b[0m\n",
      "\u001b[0;32m~/Documents/code/optimization-playground/analysis/connectomes.py\u001b[0m in \u001b[0;36mfill_lower_tri\u001b[0;34m(mat, a)\u001b[0m\n\u001b[1;32m     83\u001b[0m   \u001b[0mn\u001b[0m \u001b[0;34m=\u001b[0m \u001b[0mmat\u001b[0m\u001b[0;34m.\u001b[0m\u001b[0mshape\u001b[0m\u001b[0;34m[\u001b[0m\u001b[0;36m0\u001b[0m\u001b[0;34m]\u001b[0m\u001b[0;34m\u001b[0m\u001b[0;34m\u001b[0m\u001b[0m\n\u001b[1;32m     84\u001b[0m   \u001b[0mmask\u001b[0m \u001b[0;34m=\u001b[0m \u001b[0mget_lower_tri_mask\u001b[0m\u001b[0;34m(\u001b[0m\u001b[0mn\u001b[0m\u001b[0;34m)\u001b[0m\u001b[0;34m\u001b[0m\u001b[0;34m\u001b[0m\u001b[0m\n\u001b[0;32m---> 85\u001b[0;31m   \u001b[0mmat\u001b[0m\u001b[0;34m[\u001b[0m\u001b[0mmask\u001b[0m\u001b[0;34m]\u001b[0m \u001b[0;34m=\u001b[0m \u001b[0ma\u001b[0m\u001b[0;34m\u001b[0m\u001b[0;34m\u001b[0m\u001b[0m\n\u001b[0m\u001b[1;32m     86\u001b[0m \u001b[0;34m\u001b[0m\u001b[0m\n\u001b[1;32m     87\u001b[0m \u001b[0;32mdef\u001b[0m \u001b[0mget_lower_tri_mask\u001b[0m\u001b[0;34m(\u001b[0m\u001b[0mn\u001b[0m\u001b[0;34m)\u001b[0m\u001b[0;34m:\u001b[0m\u001b[0;34m\u001b[0m\u001b[0;34m\u001b[0m\u001b[0m\n",
      "\u001b[0;31mTypeError\u001b[0m: NumPy boolean array indexing assignment requires a 0 or 1-dimensional input, input has 2 dimensions"
     ]
    }
   ],
   "source": [
    "connectomes.get_random_connectome(3)"
   ]
  },
  {
   "cell_type": "code",
   "execution_count": null,
   "metadata": {},
   "outputs": [],
   "source": []
  }
 ],
 "metadata": {
  "kernelspec": {
   "display_name": "Python 3",
   "language": "python",
   "name": "python3"
  },
  "language_info": {
   "codemirror_mode": {
    "name": "ipython",
    "version": 3
   },
   "file_extension": ".py",
   "mimetype": "text/x-python",
   "name": "python",
   "nbconvert_exporter": "python",
   "pygments_lexer": "ipython3",
   "version": "3.7.3"
  }
 },
 "nbformat": 4,
 "nbformat_minor": 2
}
