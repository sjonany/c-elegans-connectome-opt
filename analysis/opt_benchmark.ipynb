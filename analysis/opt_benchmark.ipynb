{
 "cells": [
  {
   "cell_type": "markdown",
   "metadata": {},
   "source": [
    "Use this notebook to evaluate your optimization methods against simple optimization problems, then compare your results with other optimizers."
   ]
  },
  {
   "cell_type": "markdown",
   "metadata": {},
   "source": [
    "# Optimizer benchmark setup"
   ]
  },
  {
   "cell_type": "markdown",
   "metadata": {},
   "source": [
    "Here you set up the optimization problem and your optimizer"
   ]
  },
  {
   "cell_type": "markdown",
   "metadata": {},
   "source": [
    "## Optimization problems"
   ]
  },
  {
   "cell_type": "code",
   "execution_count": 7,
   "metadata": {},
   "outputs": [],
   "source": [
    "import numpy as np\n",
    "from scipy.optimize import minimize\n",
    "import time\n",
    "import policy_grad_optimizer\n",
    "\n",
    "\"\"\"\n",
    "1D problem.\n",
    "Global min at w[0]=1, f(w)=0\n",
    "Initial condition = 2\n",
    "\"\"\"\n",
    "one_d_problem = {\n",
    "  'init_conds': [2.0],\n",
    "  'obj_function': lambda w: (w[0]-1)**2\n",
    "}\n",
    "\n",
    "\"\"\"\n",
    "2D problem.\n",
    "Global min at w[0]=1, w[1]= 2, f(w)=0\n",
    "Initial condition = 2\n",
    "\"\"\"\n",
    "two_d_problem = {\n",
    "  'init_conds': [2.0, 1.0],\n",
    "  'obj_function': lambda w: (w[0]-1)**2 + (w[1]-2)**2\n",
    "}\n",
    "\n",
    "\"\"\"\n",
    "9D problem.\n",
    "Global min at w[i] = i+1, f(x)=0\n",
    "Initial condition = 2\n",
    "\"\"\"\n",
    "def nine_d_obj_fun(w):\n",
    "  res = 0 \n",
    "  for i in range(9):\n",
    "    res += (w[i] - (i+1)) ** 2\n",
    "  return res\n",
    "nine_d_problem = {\n",
    "  'init_conds': [9.0 - i for i in range(9)],\n",
    "  'obj_function': nine_d_obj_fun\n",
    "}\n",
    "\n"
   ]
  },
  {
   "cell_type": "markdown",
   "metadata": {},
   "source": [
    "## Optimizers"
   ]
  },
  {
   "cell_type": "code",
   "execution_count": 8,
   "metadata": {},
   "outputs": [
    {
     "data": {
      "text/plain": [
       "<function policy_grad_optimizer.optimize_with_w_and_dfw(f, w0)>"
      ]
     },
     "execution_count": 8,
     "metadata": {},
     "output_type": "execute_result"
    }
   ],
   "source": [
    "# Optimizer 1: Scipy\n",
    "def scipy_trust_constr(obj_fun, init_conds):\n",
    "  res = minimize(obj_fun, init_conds, method='trust-constr', options={'maxiter':100})\n",
    "  print(res)\n",
    "  return res.x\n",
    "\n",
    "# Optimizer 2: Policy gradient with w and f(w) historical info\n",
    "policy_grad_optimizer.optimize_with_w_and_dfw"
   ]
  },
  {
   "cell_type": "markdown",
   "metadata": {},
   "source": [
    "## Final benchmark parameters"
   ]
  },
  {
   "cell_type": "code",
   "execution_count": 9,
   "metadata": {},
   "outputs": [],
   "source": [
    "# optimizer. A function that accepts a scalar function f(w) and the initial condition\n",
    "# and will return argmin w f(w) \n",
    "OPTIMIZER = policy_grad_optimizer.optimize_with_w_and_dfw\n",
    "PROBLEM_SPEC = one_d_problem\n",
    "NUM_RUNS = 10"
   ]
  },
  {
   "cell_type": "markdown",
   "metadata": {},
   "source": [
    "# Run the benchmark (This might take a while)"
   ]
  },
  {
   "cell_type": "code",
   "execution_count": 10,
   "metadata": {},
   "outputs": [
    {
     "name": "stdout",
     "output_type": "stream",
     "text": [
      "Run 1 / 10. f(w) = 0.04. Runtime (s)= 1.36. w = [0.8].\n",
      "Run 2 / 10. f(w) = 26.01. Runtime (s)= 1.30. w = [6.1].\n",
      "Run 3 / 10. f(w) = 445.21. Runtime (s)= 1.24. w = [22.1].\n",
      "Run 4 / 10. f(w) = 0.09. Runtime (s)= 1.40. w = [0.7].\n",
      "Run 5 / 10. f(w) = 0.09. Runtime (s)= 1.19. w = [0.7].\n",
      "Run 6 / 10. f(w) = 5.29. Runtime (s)= 1.42. w = [-1.3].\n",
      "Run 7 / 10. f(w) = 1616.04. Runtime (s)= 1.24. w = [41.2].\n",
      "Run 8 / 10. f(w) = 823.69. Runtime (s)= 1.34. w = [29.7].\n",
      "Run 9 / 10. f(w) = 640.09. Runtime (s)= 1.08. w = [26.3].\n",
      "Run 10 / 10. f(w) = 0.09. Runtime (s)= 1.36. w = [0.7].\n",
      "All f(w)'s = [4.00000e-02 9.00000e-02 9.00000e-02 9.00000e-02 5.29000e+00 2.60100e+01\n",
      " 4.45210e+02 6.40090e+02 8.23690e+02 1.61604e+03]\n",
      "All w's = [array([0.8]), array([6.1]), array([22.1]), array([0.7]), array([0.7]), array([-1.3]), array([41.2]), array([29.7]), array([26.3]), array([0.7])]\n",
      "Average runtime (s) = 1.36\n",
      "Min f(w) = 0.04\n",
      "Mean f(w) = 355.66\n",
      "Median f(w) = 15.65\n",
      "Best w = [0.8]\n"
     ]
    }
   ],
   "source": [
    "runtimes = []\n",
    "fws = []\n",
    "ws = []\n",
    "for run_i in range(NUM_RUNS):\n",
    "  # Use a different seed each run. We will get reproducible results, and still allow each optimizer\n",
    "  # to run with different seeds.\n",
    "  np.random.seed(run_i)\n",
    "  start_time_s = time.time()\n",
    "  f = PROBLEM_SPEC['obj_function']\n",
    "  w = OPTIMIZER(f, PROBLEM_SPEC['init_conds'])\n",
    "  elapsed_time_s = time.time() - start_time_s\n",
    "  fw = f(w)\n",
    "  runtimes.append(elapsed_time_s)\n",
    "  fws.append(fw)\n",
    "  ws.append(w)\n",
    "\n",
    "  print(\"Run %d / %d. f(w) = %.2f. Runtime (s)= %.2f. w = %s.\" % (run_i+1, NUM_RUNS, fw, elapsed_time_s, w))\n",
    "\n",
    "print(\"All f(w)'s = %s\" % np.sort(fws))\n",
    "print(\"All w's = %s\" % ws)\n",
    "print(\"Average runtime (s) = %.2f\" % np.mean(elapsed_time_s))\n",
    "print(\"Min f(w) = %.2f\" % np.min(fws))\n",
    "print(\"Mean f(w) = %.2f\" % np.mean(fws))\n",
    "print(\"Median f(w) = %.2f\" % np.median(fws))\n",
    "print(\"Best w = %s\" % (ws[np.argmin(fws)]))"
   ]
  },
  {
   "cell_type": "code",
   "execution_count": null,
   "metadata": {},
   "outputs": [],
   "source": []
  }
 ],
 "metadata": {
  "kernelspec": {
   "display_name": "Python 3",
   "language": "python",
   "name": "python3"
  },
  "language_info": {
   "codemirror_mode": {
    "name": "ipython",
    "version": 3
   },
   "file_extension": ".py",
   "mimetype": "text/x-python",
   "name": "python",
   "nbconvert_exporter": "python",
   "pygments_lexer": "ipython3",
   "version": "3.7.3"
  }
 },
 "nbformat": 4,
 "nbformat_minor": 4
}
