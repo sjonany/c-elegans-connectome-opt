{
 "cells": [
  {
   "cell_type": "code",
   "execution_count": null,
   "metadata": {},
   "outputs": [],
   "source": [
    "import policy_grad_optimizer\n",
    "import numpy as np\n",
    "\n",
    "def f2d(w):\n",
    "  x = w[0]\n",
    "  y = w[1]\n",
    "  return -(x-1)**2 - (y-1.5)**2\n",
    "f2d_w0 = [2,1]\n",
    "\n",
    "def f1d(w):\n",
    "  return (w[0]-1)**2 + 5\n",
    "\n",
    "# Gradient at 1d.\n",
    "# We won't have this information for complex f, but want to replicate Ke li 2017 closely.\n",
    "def g1d(w):\n",
    "  return np.array([2 * (w[0]-1)])\n",
    "  \n",
    "f1d_w0 = [2.0]\n",
    "\n",
    "policy_grad_optimizer.VERBOSITY_LEVEL = policy_grad_optimizer.VerbosityLevel.INFO\n",
    "best_fs = []\n",
    "for i in range(10):\n",
    "  f = f1d\n",
    "  best_wt = policy_grad_optimizer.optimize_with_w_and_dfw(f, f1d_w0)\n",
    "  #policy_grad_optimizer.optimize_with_rl(\\\n",
    "  #  f1d, g1d, f1d_w0, policy_grad_optimizer.state_creator_dfw_and_gradient)\n",
    "  best_fs.append(f(best_wt))"
   ]
  },
  {
   "cell_type": "code",
   "execution_count": null,
   "metadata": {},
   "outputs": [],
   "source": [
    "best_fs"
   ]
  }
 ],
 "metadata": {
  "kernelspec": {
   "display_name": "Python 3",
   "language": "python",
   "name": "python3"
  },
  "language_info": {
   "codemirror_mode": {
    "name": "ipython",
    "version": 3
   },
   "file_extension": ".py",
   "mimetype": "text/x-python",
   "name": "python",
   "nbconvert_exporter": "python",
   "pygments_lexer": "ipython3",
   "version": "3.7.3"
  }
 },
 "nbformat": 4,
 "nbformat_minor": 4
}
