{
 "cells": [
  {
   "cell_type": "code",
   "execution_count": 16,
   "metadata": {},
   "outputs": [
    {
     "name": "stdout",
     "output_type": "stream",
     "text": [
      "-------------------------\n",
      "Method: BFGS\n",
      "      fun: 1.0075886211189263e-15\n",
      " hess_inv: array([[0.93103449, 0.17241379],\n",
      "       [0.17241379, 0.56896552]])\n",
      "      jac: array([-4.85836291e-08,  1.47117323e-08])\n",
      "  message: 'Optimization terminated successfully.'\n",
      "     nfev: 12\n",
      "      nit: 2\n",
      "     njev: 3\n",
      "   status: 0\n",
      "  success: True\n",
      "        x: array([0.99999997, 2.5       ])\n",
      "Success = True, optimized result = 1.0075886211189263e-15, best parameter values = [0.99999997 2.5       ]\n",
      "-------------------------\n",
      "Method: Powell\n",
      "   direc: array([[1., 0.],\n",
      "       [0., 1.]])\n",
      "     fun: 4.930380657631324e-32\n",
      " message: 'Optimization terminated successfully.'\n",
      "    nfev: 36\n",
      "     nit: 2\n",
      "  status: 0\n",
      " success: True\n",
      "       x: array([1. , 2.5])\n",
      "Success = True, optimized result = 4.930380657631324e-32, best parameter values = [1.  2.5]\n",
      "-------------------------\n",
      "Method: Nelder-Mead\n",
      " final_simplex: (array([[1.00001833, 2.49997712],\n",
      "       [0.9999936 , 2.50003761],\n",
      "       [1.00005617, 2.50000797]]), array([8.59734870e-10, 1.45555344e-09, 3.21813608e-09]))\n",
      "           fun: 8.597348699241522e-10\n",
      "       message: 'Optimization terminated successfully.'\n",
      "          nfev: 129\n",
      "           nit: 69\n",
      "        status: 0\n",
      "       success: True\n",
      "             x: array([1.00001833, 2.49997712])\n",
      "Success = True, optimized result = 8.597348699241522e-10, best parameter values = [1.00001833 2.49997712]\n"
     ]
    }
   ],
   "source": [
    "# This section recommends: [BFGS, Powell, Nelder-Mead]\n",
    "# https://scipy-lectures.org/advanced/mathematical_optimization/index.html#practical-guide-to-optimization-with-scipy\n",
    "from scipy.optimize import minimize, rosen, rosen_der\n",
    "\n",
    "fun = lambda x: (x[0] - 1)**2 + (x[1] - 2.5)**2\n",
    "# Limits to x[0], x[1]\n",
    "bnds = ((0, None), (0, None))\n",
    "init_cond = (2, 0)\n",
    "\n",
    "for method in ['BFGS', 'Powell', 'Nelder-Mead']:\n",
    "  res = minimize(fun, init_cond, method=method, bounds=bnds)\n",
    "  print(\"-------------------------\")\n",
    "  print(\"Method: \" + method)\n",
    "  print(res)\n",
    "  # Noteworthy: res.success, res.x, res.fun\n",
    "  print(\"Success = %s, optimized result = %s, best parameter values = %s\" %\n",
    "       (res.success, res.fun, res.x))"
   ]
  },
  {
   "cell_type": "code",
   "execution_count": null,
   "metadata": {},
   "outputs": [],
   "source": []
  }
 ],
 "metadata": {
  "kernelspec": {
   "display_name": "Python 3",
   "language": "python",
   "name": "python3"
  },
  "language_info": {
   "codemirror_mode": {
    "name": "ipython",
    "version": 3
   },
   "file_extension": ".py",
   "mimetype": "text/x-python",
   "name": "python",
   "nbconvert_exporter": "python",
   "pygments_lexer": "ipython3",
   "version": "3.7.3"
  }
 },
 "nbformat": 4,
 "nbformat_minor": 2
}
